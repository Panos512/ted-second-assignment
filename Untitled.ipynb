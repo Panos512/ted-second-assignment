{
 "cells": [
  {
   "cell_type": "code",
   "execution_count": 1,
   "metadata": {
    "collapsed": false
   },
   "outputs": [],
   "source": [
    "\"\"\"\n",
    "Data loading\n",
    "\"\"\"\n",
    "import pandas as pd\n",
    "df = pd.read_csv('./datasets/train.tsv', sep='\\t', header=0)\n",
    "\n",
    "# Removing Id feature because a sequential feature like this is not good.\n",
    "df = df.drop('Id', 1)\n"
   ]
  },
  {
   "cell_type": "code",
   "execution_count": null,
   "metadata": {
    "collapsed": false
   },
   "outputs": [],
   "source": [
    "\"\"\"\n",
    "Graphs Plotting\n",
    "\"\"\"\n",
    "\n",
    "%matplotlib inline\n",
    "import seaborn as sns\n",
    "sns.set(color_codes=True)\n",
    "\n",
    "# Looping on features excluding the 'Label' field\n",
    "for i, column in enumerate(df.drop('Label', 1)):\n",
    "    if(df[column].dtypes == \"object\"):\n",
    "        sns.plt.figure(i)\n",
    "        g = sns.countplot(y=column, hue=\"Label\", data=df, palette=\"Greens_d\");\n",
    "        g.axes.set_title(\"Histogram for \" + column, fontsize=24,alpha=0.5)\n",
    "    else:\n",
    "        sns.plt.figure(i)\n",
    "        g = sns.boxplot(y=column, x=\"Label\", data=df);\n",
    "        g.axes.set_title(\"Box plot for \" + column, fontsize=24,alpha=0.5)\n",
    "\n"
   ]
  },
  {
   "cell_type": "code",
   "execution_count": 4,
   "metadata": {
    "collapsed": false
   },
   "outputs": [],
   "source": [
    "\"\"\"\n",
    "Data preparation for classification.\n",
    "\"\"\"\n",
    "\n",
    "from sklearn.model_selection import train_test_split\n",
    "from sklearn.model_selection import cross_val_score\n",
    "\n",
    "X = df.drop('Label', 1)\n",
    "X = pd.get_dummies(X)\n",
    "features = list(X)\n",
    "\n",
    "# X_train, X_test, y_train, y_test = train_test_split(X, df.Label, test_size=0.5, random_state=42)\n",
    "\n",
    "\n"
   ]
  },
  {
   "cell_type": "code",
   "execution_count": 12,
   "metadata": {
    "collapsed": false
   },
   "outputs": [
    {
     "name": "stdout",
     "output_type": "stream",
     "text": [
      "Accuracy: 0.76 (+/- 0.09)\n"
     ]
    }
   ],
   "source": [
    "\"\"\"\n",
    "Random Forest Classification.\n",
    "\"\"\"\n",
    "\n",
    "from sklearn.ensemble import RandomForestClassifier\n",
    "\n",
    "rf = RandomForestClassifier(n_estimators=50)\n",
    "\n",
    "scores = cross_val_score(rf, X, df['Label'], cv=10)\n",
    "print(\"Accuracy: %0.2f (+/- %0.2f)\" % (scores.mean(), scores.std() * 2))\n",
    "\n",
    "\n",
    "# rf.fit(X_train, y_train)\n",
    "\n",
    "# print(\"Features sorted by their score:\")\n",
    "# print(sorted(zip(map(lambda x: round(x, 3), rf.feature_importances_), features), reverse=True))\n",
    "\n",
    "# print(rf.score(X_test, y_test))"
   ]
  },
  {
   "cell_type": "code",
   "execution_count": 13,
   "metadata": {
    "collapsed": false
   },
   "outputs": [
    {
     "name": "stdout",
     "output_type": "stream",
     "text": [
      "Accuracy: 0.70 (+/- 0.06)\n"
     ]
    }
   ],
   "source": [
    "\"\"\"\n",
    "Gaussian Naive-Bayes Classification.\n",
    "\"\"\"\n",
    "\n",
    "\n",
    "from sklearn.naive_bayes import GaussianNB\n",
    "\n",
    "rf = GaussianNB()\n",
    "scores = cross_val_score(rf, X, df['Label'], cv=10)\n",
    "print(\"Accuracy: %0.2f (+/- %0.2f)\" % (scores.mean(), scores.std() * 2))\n",
    "\n",
    "# rf.fit(X_train, y_train)\n",
    "# print(rf.score(X_test, y_test))"
   ]
  },
  {
   "cell_type": "code",
   "execution_count": 14,
   "metadata": {
    "collapsed": false
   },
   "outputs": [
    {
     "name": "stdout",
     "output_type": "stream",
     "text": [
      "Accuracy: 0.63 (+/- 0.11)\n"
     ]
    }
   ],
   "source": [
    "\"\"\"\n",
    "Multinomial Naive-Bayes Classification.\n",
    "\"\"\"\n",
    "from sklearn.naive_bayes import MultinomialNB\n",
    "\n",
    "rf = MultinomialNB()\n",
    "scores = cross_val_score(rf, X, df['Label'], cv=10)\n",
    "print(\"Accuracy: %0.2f (+/- %0.2f)\" % (scores.mean(), scores.std() * 2))\n",
    "\n",
    "# rf.fit(X_train, y_train)\n",
    "# print(rf.score(X_test, y_test))"
   ]
  },
  {
   "cell_type": "code",
   "execution_count": 16,
   "metadata": {
    "collapsed": false
   },
   "outputs": [
    {
     "name": "stdout",
     "output_type": "stream",
     "text": [
      "Accuracy: 0.73 (+/- 0.09)\n"
     ]
    }
   ],
   "source": [
    "\"\"\"\n",
    "Bernouli Naive-Bayes Classification.\n",
    "\"\"\"\n",
    "from sklearn.naive_bayes import BernoulliNB\n",
    "\n",
    "rf = BernoulliNB()\n",
    "scores = cross_val_score(rf, X, df['Label'], cv=10)\n",
    "print(\"Accuracy: %0.2f (+/- %0.2f)\" % (scores.mean(), scores.std() * 2))\n",
    "\n",
    "# rf.fit(X_train, y_train)\n",
    "# print(rf.score(X_test, y_test))"
   ]
  },
  {
   "cell_type": "code",
   "execution_count": 21,
   "metadata": {
    "collapsed": false
   },
   "outputs": [
    {
     "name": "stdout",
     "output_type": "stream",
     "text": [
      "Accuracy: 0.69 (+/- 0.03)\n"
     ]
    }
   ],
   "source": [
    "\"\"\"\n",
    "SVC SVM Classification.\n",
    "\"\"\"\n",
    "\n",
    "from sklearn.svm import SVC\n",
    "\n",
    "rf = SVC()\n",
    "scores = cross_val_score(rf, X, df['Label'], cv=10)\n",
    "print(\"Accuracy: %0.2f (+/- %0.2f)\" % (scores.mean(), scores.std() * 2))\n",
    "\n",
    "# rf.fit(X_train, y_train)\n",
    "# print(rf.score(X_test, y_test))"
   ]
  },
  {
   "cell_type": "code",
   "execution_count": null,
   "metadata": {
    "collapsed": true
   },
   "outputs": [],
   "source": []
  }
 ],
 "metadata": {
  "kernelspec": {
   "display_name": "Python 2",
   "language": "python",
   "name": "python2"
  },
  "language_info": {
   "codemirror_mode": {
    "name": "ipython",
    "version": 2
   },
   "file_extension": ".py",
   "mimetype": "text/x-python",
   "name": "python",
   "nbconvert_exporter": "python",
   "pygments_lexer": "ipython2",
   "version": "2.7.13"
  }
 },
 "nbformat": 4,
 "nbformat_minor": 0
}
