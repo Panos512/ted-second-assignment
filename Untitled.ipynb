{
 "cells": [
  {
   "cell_type": "code",
   "execution_count": 1,
   "metadata": {
    "collapsed": false
   },
   "outputs": [],
   "source": [
    "\"\"\"\n",
    "Data loading\n",
    "\"\"\"\n",
    "import pandas as pd\n",
    "df = pd.read_csv('./datasets/train.tsv', sep='\\t', header=0)\n",
    "\n",
    "# Removing Id feature because a sequential feature like this is not good.\n",
    "df = df.drop('Id', 1)\n"
   ]
  },
  {
   "cell_type": "code",
   "execution_count": null,
   "metadata": {
    "collapsed": false
   },
   "outputs": [],
   "source": [
    "\"\"\"\n",
    "Graphs Plotting\n",
    "\"\"\"\n",
    "\n",
    "%matplotlib inline\n",
    "import seaborn as sns\n",
    "sns.set(color_codes=True)\n",
    "\n",
    "# Looping on features excluding the 'Label' field\n",
    "for i, column in enumerate(df.drop('Label', 1)):\n",
    "    if(df[column].dtypes == \"object\"):\n",
    "        sns.plt.figure(i)\n",
    "        g = sns.countplot(y=column, hue=\"Label\", data=df, palette=\"Greens_d\");\n",
    "        g.axes.set_title(\"Histogram for \" + column, fontsize=24,alpha=0.5)\n",
    "    else:\n",
    "        sns.plt.figure(i)\n",
    "        g = sns.boxplot(y=column, x=\"Label\", data=df);\n",
    "        g.axes.set_title(\"Box plot for \" + column, fontsize=24,alpha=0.5)\n",
    "\n"
   ]
  },
  {
   "cell_type": "code",
   "execution_count": 34,
   "metadata": {
    "collapsed": false
   },
   "outputs": [],
   "source": [
    "\"\"\"\n",
    "Data preparation for classification.\n",
    "\"\"\"\n",
    "\n",
    "from sklearn.model_selection import train_test_split\n",
    "from sklearn.model_selection import cross_val_score\n",
    "\n",
    "X = df.drop('Label', 1)\n",
    "X = pd.get_dummies(X)\n",
    "features = list(X)\n",
    "\n",
    "accuracy_metrics = {\n",
    "    'Statistic Measure': 'Accuracy',\n",
    "    'Random Forest': 0,\n",
    "    'Gaussian Naive-Bayes': 0,\n",
    "    'Multinomial Naive-Bayes': 0,\n",
    "    'Bernouli Naive-Bayes': 0,\n",
    "    'SVC SVM': 0\n",
    "}\n",
    "\n",
    "# X_train, X_test, y_train, y_test = train_test_split(X, df.Label, test_size=0.5, random_state=42)\n",
    "\n",
    "\n"
   ]
  },
  {
   "cell_type": "code",
   "execution_count": 35,
   "metadata": {
    "collapsed": false
   },
   "outputs": [
    {
     "name": "stdout",
     "output_type": "stream",
     "text": [
      "Accuracy: 0.75 (+/- 0.07)\n",
      "Features sorted by their score:\n",
      "[(0.095, 'Attribute5'), (0.085, 'Attribute13'), (0.062, 'Attribute2'), (0.056, 'Attribute1_A14'), (0.039, 'Attribute8'), (0.035, 'Attribute1_A11'), (0.033, 'Attribute11'), (0.026, 'Attribute1_A12'), (0.021, 'Attribute16'), (0.02, 'Attribute4_A43'), (0.019, 'Attribute4_A40'), (0.018, 'Attribute7_A72'), (0.017, 'Attribute19_A191'), (0.017, 'Attribute14_A143'), (0.016, 'Attribute6_A61'), (0.016, 'Attribute3_A34'), (0.016, 'Attribute3_A32'), (0.016, 'Attribute17_A173'), (0.015, 'Attribute9_A93'), (0.015, 'Attribute15_A152'), (0.015, 'Attribute12_A124'), (0.014, 'Attribute3_A31'), (0.014, 'Attribute17_A172'), (0.014, 'Attribute12_A121'), (0.013, 'Attribute9_A92'), (0.013, 'Attribute7_A73'), (0.013, 'Attribute6_A65'), (0.013, 'Attribute4_A42'), (0.013, 'Attribute3_A30'), (0.013, 'Attribute19_A192'), (0.013, 'Attribute12_A123'), (0.012, 'Attribute3_A33'), (0.012, 'Attribute14_A141'), (0.011, 'Attribute4_A41'), (0.01, 'Attribute9_A94'), (0.01, 'Attribute7_A75'), (0.01, 'Attribute15_A151'), (0.01, 'Attribute12_A122'), (0.01, 'Attribute10_A101'), (0.009, 'Attribute7_A74'), (0.009, 'Attribute4_A49'), (0.009, 'Attribute4_A46'), (0.009, 'Attribute18'), (0.009, 'Attribute17_A174'), (0.008, 'Attribute9_A91'), (0.008, 'Attribute7_A71'), (0.008, 'Attribute10_A102'), (0.007, 'Attribute6_A62'), (0.007, 'Attribute14_A142'), (0.007, 'Attribute10_A103'), (0.006, 'Attribute6_A63'), (0.006, 'Attribute1_A13'), (0.006, 'Attribute15_A153'), (0.004, 'Attribute6_A64'), (0.004, 'Attribute4_A45'), (0.004, 'Attribute4_A44'), (0.004, 'Attribute17_A171'), (0.002, 'Attribute4_A48'), (0.002, 'Attribute20_A201'), (0.001, 'Attribute4_A410'), (0.001, 'Attribute20_A202')]\n"
     ]
    }
   ],
   "source": [
    "\"\"\"\n",
    "Random Forest Classification.\n",
    "\"\"\"\n",
    "\n",
    "from sklearn.ensemble import RandomForestClassifier\n",
    "\n",
    "rf = RandomForestClassifier(n_estimators=50)\n",
    "\n",
    "scores = cross_val_score(rf, X, df['Label'], cv=10)\n",
    "print(\"Accuracy: %0.2f (+/- %0.2f)\" % (scores.mean(), scores.std() * 2))\n",
    "\n",
    "accuracy_metrics['Random Forest'] = scores.mean()\n",
    "\n",
    "\n",
    "rf.fit(X_train, y_train)\n",
    "print(\"Features sorted by their score:\")\n",
    "print(sorted(zip(map(lambda x: round(x, 3), rf.feature_importances_), features), reverse=True))\n",
    "\n",
    "# print(rf.score(X_test, y_test))"
   ]
  },
  {
   "cell_type": "code",
   "execution_count": 36,
   "metadata": {
    "collapsed": false
   },
   "outputs": [
    {
     "name": "stdout",
     "output_type": "stream",
     "text": [
      "Accuracy: 0.70 (+/- 0.06)\n"
     ]
    }
   ],
   "source": [
    "\"\"\"\n",
    "Gaussian Naive-Bayes Classification.\n",
    "\"\"\"\n",
    "\n",
    "\n",
    "from sklearn.naive_bayes import GaussianNB\n",
    "\n",
    "rf = GaussianNB()\n",
    "scores = cross_val_score(rf, X, df['Label'], cv=10)\n",
    "print(\"Accuracy: %0.2f (+/- %0.2f)\" % (scores.mean(), scores.std() * 2))\n",
    "accuracy_metrics['Gaussian Naive-Bayes'] = scores.mean()\n",
    "\n",
    "# rf.fit(X_train, y_train)\n",
    "# print(rf.score(X_test, y_test))"
   ]
  },
  {
   "cell_type": "code",
   "execution_count": 37,
   "metadata": {
    "collapsed": false
   },
   "outputs": [
    {
     "name": "stdout",
     "output_type": "stream",
     "text": [
      "Accuracy: 0.63 (+/- 0.11)\n"
     ]
    }
   ],
   "source": [
    "\"\"\"\n",
    "Multinomial Naive-Bayes Classification.\n",
    "\"\"\"\n",
    "from sklearn.naive_bayes import MultinomialNB\n",
    "\n",
    "rf = MultinomialNB()\n",
    "scores = cross_val_score(rf, X, df['Label'], cv=10)\n",
    "print(\"Accuracy: %0.2f (+/- %0.2f)\" % (scores.mean(), scores.std() * 2))\n",
    "accuracy_metrics['Multinomial Naive-Bayes'] = scores.mean()\n",
    "\n",
    "# rf.fit(X_train, y_train)\n",
    "# print(rf.score(X_test, y_test))"
   ]
  },
  {
   "cell_type": "code",
   "execution_count": 38,
   "metadata": {
    "collapsed": false
   },
   "outputs": [
    {
     "name": "stdout",
     "output_type": "stream",
     "text": [
      "Accuracy: 0.73 (+/- 0.09)\n"
     ]
    }
   ],
   "source": [
    "\"\"\"\n",
    "Bernouli Naive-Bayes Classification.\n",
    "\"\"\"\n",
    "from sklearn.naive_bayes import BernoulliNB\n",
    "\n",
    "rf = BernoulliNB()\n",
    "scores = cross_val_score(rf, X, df['Label'], cv=10)\n",
    "print(\"Accuracy: %0.2f (+/- %0.2f)\" % (scores.mean(), scores.std() * 2))\n",
    "accuracy_metrics['Bernouli Naive-Bayes'] = scores.mean()\n",
    "\n",
    "\n",
    "# rf.fit(X_train, y_train)\n",
    "# print(rf.score(X_test, y_test))"
   ]
  },
  {
   "cell_type": "code",
   "execution_count": 39,
   "metadata": {
    "collapsed": false
   },
   "outputs": [
    {
     "name": "stdout",
     "output_type": "stream",
     "text": [
      "Accuracy: 0.69 (+/- 0.03)\n"
     ]
    }
   ],
   "source": [
    "\"\"\"\n",
    "SVC SVM Classification.\n",
    "\"\"\"\n",
    "\n",
    "from sklearn.svm import SVC\n",
    "\n",
    "rf = SVC()\n",
    "scores = cross_val_score(rf, X, df['Label'], cv=10)\n",
    "print(\"Accuracy: %0.2f (+/- %0.2f)\" % (scores.mean(), scores.std() * 2))\n",
    "accuracy_metrics['SVC SVM'] = scores.mean()\n",
    "\n",
    "# rf.fit(X_train, y_train)\n",
    "# print(rf.score(X_test, y_test))"
   ]
  },
  {
   "cell_type": "code",
   "execution_count": 60,
   "metadata": {
    "collapsed": false
   },
   "outputs": [
    {
     "data": {
      "text/html": [
       "<div>\n",
       "<style>\n",
       "    .dataframe thead tr:only-child th {\n",
       "        text-align: right;\n",
       "    }\n",
       "\n",
       "    .dataframe thead th {\n",
       "        text-align: left;\n",
       "    }\n",
       "\n",
       "    .dataframe tbody tr th {\n",
       "        vertical-align: top;\n",
       "    }\n",
       "</style>\n",
       "<table border=\"1\" class=\"dataframe\">\n",
       "  <thead>\n",
       "    <tr style=\"text-align: right;\">\n",
       "      <th></th>\n",
       "      <th>Statistic Measure</th>\n",
       "      <th>Random Forest</th>\n",
       "      <th>Multinomial Naive-Bayes</th>\n",
       "      <th>SVC SVM</th>\n",
       "      <th>Bernouli Naive-Bayes</th>\n",
       "      <th>Gaussian Naive-Bayes</th>\n",
       "    </tr>\n",
       "  </thead>\n",
       "  <tbody>\n",
       "    <tr>\n",
       "      <th>0</th>\n",
       "      <td>Accuracy</td>\n",
       "      <td>0.751228</td>\n",
       "      <td>0.633724</td>\n",
       "      <td>0.691256</td>\n",
       "      <td>0.732492</td>\n",
       "      <td>0.699928</td>\n",
       "    </tr>\n",
       "  </tbody>\n",
       "</table>\n",
       "</div>"
      ],
      "text/plain": [
       "  Statistic Measure  Random Forest  Multinomial Naive-Bayes   SVC SVM  \\\n",
       "0          Accuracy       0.751228                 0.633724  0.691256   \n",
       "\n",
       "   Bernouli Naive-Bayes  Gaussian Naive-Bayes  \n",
       "0              0.732492              0.699928  "
      ]
     },
     "execution_count": 60,
     "metadata": {},
     "output_type": "execute_result"
    }
   ],
   "source": [
    "\"\"\"\n",
    "Write results to csv file\n",
    "\"\"\"\n",
    "(titles,values) = zip(*accuracy_metrics.iteritems()) # Getting list of keys and list of values from dict\n",
    "results = pd.DataFrame([values], columns=titles)\n",
    "results.to_csv('./outputs/EvaluationMetric_10fold.csv', index=False)\n",
    "results"
   ]
  },
  {
   "cell_type": "code",
   "execution_count": null,
   "metadata": {
    "collapsed": true
   },
   "outputs": [],
   "source": []
  }
 ],
 "metadata": {
  "kernelspec": {
   "display_name": "Python 2",
   "language": "python",
   "name": "python2"
  },
  "language_info": {
   "codemirror_mode": {
    "name": "ipython",
    "version": 2
   },
   "file_extension": ".py",
   "mimetype": "text/x-python",
   "name": "python",
   "nbconvert_exporter": "python",
   "pygments_lexer": "ipython2",
   "version": "2.7.13"
  }
 },
 "nbformat": 4,
 "nbformat_minor": 0
}
